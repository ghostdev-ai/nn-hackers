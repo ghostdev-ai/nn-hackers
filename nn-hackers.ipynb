{
 "cells": [
  {
   "cell_type": "markdown",
   "metadata": {},
   "source": [
    "## Softmax Activation"
   ]
  },
  {
   "cell_type": "code",
   "execution_count": 9,
   "metadata": {},
   "outputs": [
    {
     "name": "stdout",
     "output_type": "stream",
     "text": [
      "[121.51041751873483, 3.353484652549023, 10.859062664920513]\n"
     ]
    }
   ],
   "source": [
    "# Exponential function\n",
    "# y = e^x\n",
    "\n",
    "# Euler's number\n",
    "e = 2.718281828459045\n",
    "\n",
    "# Where exponentiating to convert negatives to positives without loosing the meaning of negative values.\n",
    "outputs = [4.8, 1.21, -2.385]\n",
    "for i, value in enumerate(outputs):\n",
    "    outputs[i] = e ** value\n",
    "\n",
    "print(outputs)"
   ]
  },
  {
   "cell_type": "code",
   "execution_count": 10,
   "metadata": {},
   "outputs": [
    {
     "name": "stdout",
     "output_type": "stream",
     "text": [
      "[0.8952826639572619, 0.024708306782099374, 0.0800090292606387]\n",
      "0.9999999999999999\n"
     ]
    }
   ],
   "source": [
    "# Normalization - produces a probability distribution where each value is divided by the sum of all the values.\n",
    "normBase = sum(outputs)\n",
    "normOutputs = outputs\n",
    "\n",
    "for i, value in enumerate(outputs):\n",
    "    normOutputs[i] = value / normBase\n",
    "\n",
    "print(normOutputs)\n",
    "print(sum(normOutputs))"
   ]
  },
  {
   "cell_type": "code",
   "execution_count": 21,
   "metadata": {},
   "outputs": [
    {
     "name": "stdout",
     "output_type": "stream",
     "text": [
      "[[8.95282664e-01 2.47083068e-02 8.00090293e-02]\n",
      " [9.99811129e-01 2.23163963e-05 1.66554348e-04]\n",
      " [5.13097164e-01 3.58333899e-01 1.28568936e-01]]\n",
      "[1. 1. 1.]\n"
     ]
    }
   ],
   "source": [
    "import numpy as np\n",
    "\n",
    "# Input -> Exponentiate -> Normalize -> Output\n",
    "\n",
    "outputs = [[4.8, 1.21, -2.385], \n",
    "           [8.9, -1.81, 0.2], \n",
    "           [1.41, 1.051, 0.026]]\n",
    "\n",
    "expValues = np.exp(outputs)\n",
    "normValues = expValues / np.sum(expValues, \n",
    "                                axis=1, # calculates the sum at dimension 1 or for each feature vector. \n",
    "                                keepdims=True) # keeps the same dimension as outputs\n",
    "\n",
    "print(normValues)\n",
    "print(np.sum(normValues, axis=1))"
   ]
  },
  {
   "cell_type": "code",
   "execution_count": 22,
   "metadata": {},
   "outputs": [
    {
     "data": {
      "text/plain": [
       "array([[4.8 ],\n",
       "       [8.9 ],\n",
       "       [1.41]])"
      ]
     },
     "execution_count": 22,
     "metadata": {},
     "output_type": "execute_result"
    }
   ],
   "source": [
    "# Overflow prevention\n",
    "# v = u - max u\n",
    "np.max(outputs, axis=1, keepdims=True)"
   ]
  },
  {
   "cell_type": "markdown",
   "metadata": {},
   "source": [
    "## Calculating Loss with Categorical Cross-Entropy"
   ]
  },
  {
   "cell_type": "code",
   "execution_count": null,
   "metadata": {},
   "outputs": [],
   "source": []
  }
 ],
 "metadata": {
  "kernelspec": {
   "display_name": "Python 3",
   "language": "python",
   "name": "python3"
  },
  "language_info": {
   "codemirror_mode": {
    "name": "ipython",
    "version": 3
   },
   "file_extension": ".py",
   "mimetype": "text/x-python",
   "name": "python",
   "nbconvert_exporter": "python",
   "pygments_lexer": "ipython3",
   "version": "3.10.12"
  }
 },
 "nbformat": 4,
 "nbformat_minor": 2
}
