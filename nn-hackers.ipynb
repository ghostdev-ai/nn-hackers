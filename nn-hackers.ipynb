{
 "cells": [
  {
   "cell_type": "markdown",
   "metadata": {},
   "source": [
    "## Softmax Activation"
   ]
  },
  {
   "cell_type": "code",
   "execution_count": 9,
   "metadata": {},
   "outputs": [
    {
     "name": "stdout",
     "output_type": "stream",
     "text": [
      "[121.51041751873483, 3.353484652549023, 10.859062664920513]\n"
     ]
    }
   ],
   "source": [
    "# Exponential function\n",
    "# y = e^x\n",
    "\n",
    "# Euler's number\n",
    "e = 2.718281828459045\n",
    "\n",
    "# Where exponentiating to convert negatives to positives without loosing the meaning of negative values.\n",
    "outputs = [4.8, 1.21, -2.385]\n",
    "for i, value in enumerate(outputs):\n",
    "    outputs[i] = e ** value\n",
    "\n",
    "print(outputs)"
   ]
  },
  {
   "cell_type": "code",
   "execution_count": 10,
   "metadata": {},
   "outputs": [
    {
     "name": "stdout",
     "output_type": "stream",
     "text": [
      "[0.8952826639572619, 0.024708306782099374, 0.0800090292606387]\n",
      "0.9999999999999999\n"
     ]
    }
   ],
   "source": [
    "# Normalization - produces a probability distribution where each value is divided by the sum of all the values.\n",
    "normBase = sum(outputs)\n",
    "normOutputs = outputs\n",
    "\n",
    "for i, value in enumerate(outputs):\n",
    "    normOutputs[i] = value / normBase\n",
    "\n",
    "print(normOutputs)\n",
    "print(sum(normOutputs))"
   ]
  },
  {
   "cell_type": "code",
   "execution_count": 21,
   "metadata": {},
   "outputs": [
    {
     "name": "stdout",
     "output_type": "stream",
     "text": [
      "[[8.95282664e-01 2.47083068e-02 8.00090293e-02]\n",
      " [9.99811129e-01 2.23163963e-05 1.66554348e-04]\n",
      " [5.13097164e-01 3.58333899e-01 1.28568936e-01]]\n",
      "[1. 1. 1.]\n"
     ]
    }
   ],
   "source": [
    "import numpy as np\n",
    "\n",
    "# Input -> Exponentiate -> Normalize -> Output\n",
    "\n",
    "outputs = [[4.8, 1.21, -2.385], \n",
    "           [8.9, -1.81, 0.2], \n",
    "           [1.41, 1.051, 0.026]]\n",
    "\n",
    "expValues = np.exp(outputs)\n",
    "normValues = expValues / np.sum(expValues, \n",
    "                                axis=1, # calculates the sum at dimension 1 or for each feature vector. \n",
    "                                keepdims=True) # keeps the same dimension as outputs\n",
    "\n",
    "print(normValues)\n",
    "print(np.sum(normValues, axis=1))"
   ]
  },
  {
   "cell_type": "code",
   "execution_count": 22,
   "metadata": {},
   "outputs": [
    {
     "data": {
      "text/plain": [
       "array([[4.8 ],\n",
       "       [8.9 ],\n",
       "       [1.41]])"
      ]
     },
     "execution_count": 22,
     "metadata": {},
     "output_type": "execute_result"
    }
   ],
   "source": [
    "# Overflow prevention\n",
    "# v = u - max u\n",
    "np.max(outputs, axis=1, keepdims=True)"
   ]
  },
  {
   "cell_type": "markdown",
   "metadata": {},
   "source": [
    "## Calculating Loss with Categorical Cross-Entropy"
   ]
  },
  {
   "cell_type": "code",
   "execution_count": 24,
   "metadata": {},
   "outputs": [
    {
     "name": "stdout",
     "output_type": "stream",
     "text": [
      "1.6486586255873816\n",
      "5.199999999999999\n"
     ]
    }
   ],
   "source": [
    "import math\n",
    "\n",
    "# Natural logarithm\n",
    "# y = loge(x) = ln(x)\n",
    "\n",
    "# logarithm -> solves for x\n",
    "# e ** x = b\n",
    "\n",
    "b = 5.2\n",
    "print(np.log(b))\n",
    "print(math.e ** 1.6486586255873816)"
   ]
  },
  {
   "cell_type": "code",
   "execution_count": 34,
   "metadata": {},
   "outputs": [
    {
     "name": "stdout",
     "output_type": "stream",
     "text": [
      "0.35667494393873245\n",
      "0.35667494393873245\n",
      "0.6931471805599453\n"
     ]
    }
   ],
   "source": [
    "softmaxOutput = [0.7, 0.1, 0.2]\n",
    "targetOutput = [1, 0, 0]\n",
    "\n",
    "loss = -(math.log(softmaxOutput[0]) * targetOutput[0] + \n",
    "         math.log(softmaxOutput[1]) * targetOutput[1] + \n",
    "         math.log(softmaxOutput[2]) * targetOutput[2])\n",
    "print(loss)\n",
    "\n",
    "loss = -(math.log(softmaxOutput[0]))\n",
    "print(loss)\n",
    "\n",
    "print(-(math.log(0.5)))"
   ]
  },
  {
   "cell_type": "markdown",
   "metadata": {},
   "source": [
    "softmaxOutput = np.array([[0.7, 0.1, 0.2], \n",
    "                          [0.1, 0.5, 0.4],\n",
    "                          [0.02, 0.9, 0.08]])\n",
    "classTarget = [0, 1, 1]\n",
    "\n",
    "print(softmaxOutput[range(len(softmaxOutput)), classTarget])\n",
    "negLog = -np.log(softmaxOutput[range(len(softmaxOutput)), classTarget])\n",
    "print(negLog)\n",
    "averageLoss = np.mean(negLog)\n",
    "print(averageLoss)"
   ]
  },
  {
   "cell_type": "markdown",
   "metadata": {},
   "source": [
    "## Optimization"
   ]
  },
  {
   "cell_type": "markdown",
   "metadata": {},
   "source": [
    "### Derivatives"
   ]
  },
  {
   "cell_type": "code",
   "execution_count": 5,
   "metadata": {},
   "outputs": [
    {
     "name": "stdout",
     "output_type": "stream",
     "text": [
      "4.0001999999987845\n"
     ]
    },
    {
     "data": {
      "image/png": "[encoded data removed]",
      "text/plain": [
       "<Figure size 640x480 with 1 Axes>"
      ]
     },
     "metadata": {},
     "output_type": "display_data"
    }
   ],
   "source": [
    "import matplotlib.pyplot as plt\n",
    "import numpy as np\n",
    "\n",
    "def f(x): return 2*x**2\n",
    "\n",
    "x = np.arange(0, 5, 0.001)\n",
    "y = f(x)\n",
    "\n",
    "p2_delta = 0.0001\n",
    "\n",
    "x1 = 1\n",
    "x2 = x1 + p2_delta\n",
    "\n",
    "y1 = f(x1)\n",
    "y2 = f(x2)\n",
    "\n",
    "approximateDerivative = (y2 - y1) / (x2 - x1)\n",
    "print(approximateDerivative)\n",
    "\n",
    "plt.plot(x, y)\n",
    "plt.show()\n"
   ]
  },
  {
   "cell_type": "markdown",
   "metadata": {},
   "source": [
    "### Gradients, Partial Derivatives and the Chain Rule\n",
    "\n",
    "**partial derivative** - measures how much impact a single input has on a function's output.\n",
    "\n",
    "**gradient** - a vector of the size of inputs containing partial derivative solutions with respect to each of the inputs. Denoted using the nambla symbol."
   ]
  },
  {
   "cell_type": "markdown",
   "metadata": {},
   "source": [
    "### Backpropagation"
   ]
  },
  {
   "cell_type": "code",
   "execution_count": 12,
   "metadata": {},
   "outputs": [
    {
     "name": "stdout",
     "output_type": "stream",
     "text": [
      "-3.0 2.0 6.0 1.0\n",
      "6.0\n",
      "6.0\n",
      "1.0\n",
      "1.0 1.0 1.0 1.0\n"
     ]
    }
   ],
   "source": [
    "# Forward pass\n",
    "x = [1.0, -2.0, 3.0] # input values\n",
    "w = [-3.0, -1.0, 2.0] # weights\n",
    "b = 1.0 # bias\n",
    "\n",
    "# Multiplying inputs by weights\n",
    "xw0 = x[0] * w[0]\n",
    "xw1 = x[1] * w[1]\n",
    "xw2 = x[2] * w[2]\n",
    "\n",
    "print(xw0, xw1, xw2, b)\n",
    "\n",
    "# Adding weighted inputs and a bias\n",
    "z = xw0 + xw1 + xw2 + b\n",
    "print(z)\n",
    "\n",
    "# ReLU activation function\n",
    "y = max(z, 0)\n",
    "print(y)\n",
    "\n",
    "# Backward pass\n",
    "\n",
    "# The derivative from the next layer\n",
    "dvalue = 1.0\n",
    "\n",
    "# Derivative of ReLU and the chain rule\n",
    "drelu_dz = dvalue * (1. if z > 0 else 0)\n",
    "print(drelu_dz)\n",
    "\n",
    "# Partial derivatives of the multiplication, the chain rule\n",
    "dsum_dxw0 = 1\n",
    "dsum_dxw1 = 1\n",
    "dsum_dxw2 = 1\n",
    "dsum_db = 1\n",
    "\n",
    "drelu_dxw0 = drelu_dz * dsum_dxw0\n",
    "drelu_dxw1 = drelu_dz * dsum_dxw1\n",
    "drelu_dxw2 = drelu_dz * dsum_dxw2\n",
    "drelu_db = drelu_dz * dsum_db\n",
    "\n",
    "print(drelu_dxw0, drelu_dxw1, drelu_dxw2, drelu_db)"
   ]
  }
 ],
 "metadata": {
  "kernelspec": {
   "display_name": "Python 3",
   "language": "python",
   "name": "python3"
  },
  "language_info": {
   "codemirror_mode": {
    "name": "ipython",
    "version": 3
   },
   "file_extension": ".py",
   "mimetype": "text/x-python",
   "name": "python",
   "nbconvert_exporter": "python",
   "pygments_lexer": "ipython3",
   "version": "3.10.12"
  }
 },
 "nbformat": 4,
 "nbformat_minor": 2
}
